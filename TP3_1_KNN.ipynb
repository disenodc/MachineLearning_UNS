{
  "nbformat": 4,
  "nbformat_minor": 0,
  "metadata": {
    "colab": {
      "provenance": [],
      "collapsed_sections": [],
      "authorship_tag": "ABX9TyNUY4FWbg4qc4JNfVre1FtZ",
      "include_colab_link": true
    },
    "kernelspec": {
      "name": "python3",
      "display_name": "Python 3"
    },
    "language_info": {
      "name": "python"
    }
  },
  "cells": [
    {
      "cell_type": "markdown",
      "metadata": {
        "id": "view-in-github",
        "colab_type": "text"
      },
      "source": [
        "<a href=\"https://colab.research.google.com/github/disenodc/MachineLearning_UNS/blob/main/TP3_1_KNN.ipynb\" target=\"_parent\"><img src=\"https://colab.research.google.com/assets/colab-badge.svg\" alt=\"Open In Colab\"/></a>"
      ]
    },
    {
      "cell_type": "markdown",
      "source": [
        "#TP3-1_KNN"
      ],
      "metadata": {
        "id": "02F4nnymATrn"
      }
    },
    {
      "cell_type": "code",
      "execution_count": 1,
      "metadata": {
        "id": "q0qoOLa7AMKS"
      },
      "outputs": [],
      "source": [
        "# Importo librerias\n",
        "from sklearn.neighbors import KNeighborsClassifier\n",
        "from sklearn.model_selection import train_test_split\n",
        "from sklearn.datasets import load_iris\n",
        "\n"
      ]
    },
    {
      "cell_type": "code",
      "source": [
        "# Cargo dataset \n",
        "irisData = load_iris()"
      ],
      "metadata": {
        "id": "xiH8NKY4Abex"
      },
      "execution_count": 2,
      "outputs": []
    },
    {
      "cell_type": "code",
      "source": [
        "# Crear matrices de características y objetivos\n",
        "X = irisData.data\n",
        "y = irisData.target\n"
      ],
      "metadata": {
        "id": "HSWZ_TnlAdY6"
      },
      "execution_count": 3,
      "outputs": []
    },
    {
      "cell_type": "code",
      "source": [
        "# Divido en conjunto de entrenamiento y prueba\n",
        "X_train, X_test, y_train, y_test = train_test_split(\n",
        "\t\t\tX, y, test_size = 0.2, random_state=42)\n",
        "\n",
        "knn = KNeighborsClassifier(n_neighbors=7)\n",
        "\n",
        "knn.fit(X_train, y_train)\n",
        "\n"
      ],
      "metadata": {
        "colab": {
          "base_uri": "https://localhost:8080/"
        },
        "id": "D_iULaFiAezl",
        "outputId": "3fd08277-777e-4fc4-e8b1-93da984366f8"
      },
      "execution_count": 4,
      "outputs": [
        {
          "output_type": "execute_result",
          "data": {
            "text/plain": [
              "KNeighborsClassifier(n_neighbors=7)"
            ]
          },
          "metadata": {},
          "execution_count": 4
        }
      ]
    },
    {
      "cell_type": "code",
      "source": [
        "# Prediccion\n",
        "print(knn.predict(X_test))"
      ],
      "metadata": {
        "colab": {
          "base_uri": "https://localhost:8080/"
        },
        "id": "Gbh5h6KWAgME",
        "outputId": "96eed5d0-033e-4084-f6c7-a67c70518561"
      },
      "execution_count": 5,
      "outputs": [
        {
          "output_type": "stream",
          "name": "stdout",
          "text": [
            "[1 0 2 1 1 0 1 2 2 1 2 0 0 0 0 1 2 1 1 2 0 2 0 2 2 2 2 2 0 0]\n"
          ]
        }
      ]
    }
  ]
}